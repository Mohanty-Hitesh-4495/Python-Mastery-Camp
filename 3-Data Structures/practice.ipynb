{
 "cells": [
  {
   "cell_type": "code",
   "execution_count": 13,
   "id": "8a5f3fb1",
   "metadata": {},
   "outputs": [
    {
     "name": "stdout",
     "output_type": "stream",
     "text": [
      "[1, 2, 3, 4, 5, 7, 8]\n"
     ]
    }
   ],
   "source": [
    "def merge_two_sorted_lists(list1, list2):\n",
    "    list3 = []\n",
    "    i = 0\n",
    "    j = 0\n",
    "    n = len(list1)\n",
    "    m = len(list2)\n",
    "    while (i<n and j< m):\n",
    "        if list1[i] <= list2[j]:\n",
    "            list3.append(list1[i])\n",
    "            i+=1\n",
    "        else:\n",
    "            list3.append(list2[j])\n",
    "            j+=1\n",
    "\n",
    "    while(i<n):\n",
    "        list3.append(list1[i])\n",
    "        i+=1\n",
    "          \n",
    "    while(j<m):\n",
    "        list3.append(list2[j])\n",
    "        j+=1\n",
    "          \n",
    "    return list3\n",
    "\n",
    "list1 = [1,3,5,7]\n",
    "list2 = [2,4,8]\n",
    "list3 = merge_two_sorted_lists(list1, list2)\n",
    "# print(list3)\n",
    "print(list3)"
   ]
  },
  {
   "cell_type": "code",
   "execution_count": null,
   "id": "43ee6f1b",
   "metadata": {},
   "outputs": [],
   "source": []
  }
 ],
 "metadata": {
  "kernelspec": {
   "display_name": "Python 3",
   "language": "python",
   "name": "python3"
  },
  "language_info": {
   "codemirror_mode": {
    "name": "ipython",
    "version": 3
   },
   "file_extension": ".py",
   "mimetype": "text/x-python",
   "name": "python",
   "nbconvert_exporter": "python",
   "pygments_lexer": "ipython3",
   "version": "3.12.0"
  }
 },
 "nbformat": 4,
 "nbformat_minor": 5
}
